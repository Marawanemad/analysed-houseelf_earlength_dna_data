{
 "cells": [
  {
   "cell_type": "code",
   "execution_count": 1,
   "metadata": {},
   "outputs": [
    {
     "data": {
      "text/html": [
       "<div>\n",
       "<style scoped>\n",
       "    .dataframe tbody tr th:only-of-type {\n",
       "        vertical-align: middle;\n",
       "    }\n",
       "\n",
       "    .dataframe tbody tr th {\n",
       "        vertical-align: top;\n",
       "    }\n",
       "\n",
       "    .dataframe thead th {\n",
       "        text-align: right;\n",
       "    }\n",
       "</style>\n",
       "<table border=\"1\" class=\"dataframe\">\n",
       "  <thead>\n",
       "    <tr style=\"text-align: right;\">\n",
       "      <th></th>\n",
       "      <th>A</th>\n",
       "      <th>B</th>\n",
       "    </tr>\n",
       "  </thead>\n",
       "  <tbody>\n",
       "    <tr>\n",
       "      <th>0</th>\n",
       "      <td>1.5</td>\n",
       "      <td>1.7</td>\n",
       "    </tr>\n",
       "    <tr>\n",
       "      <th>1</th>\n",
       "      <td>2.0</td>\n",
       "      <td>1.9</td>\n",
       "    </tr>\n",
       "    <tr>\n",
       "      <th>2</th>\n",
       "      <td>1.6</td>\n",
       "      <td>1.8</td>\n",
       "    </tr>\n",
       "    <tr>\n",
       "      <th>3</th>\n",
       "      <td>1.2</td>\n",
       "      <td>1.5</td>\n",
       "    </tr>\n",
       "    <tr>\n",
       "      <th>4</th>\n",
       "      <td>1.5</td>\n",
       "      <td>1.0</td>\n",
       "    </tr>\n",
       "  </tbody>\n",
       "</table>\n",
       "</div>"
      ],
      "text/plain": [
       "     A    B\n",
       "0  1.5  1.7\n",
       "1  2.0  1.9\n",
       "2  1.6  1.8\n",
       "3  1.2  1.5\n",
       "4  1.5  1.0"
      ]
     },
     "execution_count": 1,
     "metadata": {},
     "output_type": "execute_result"
    }
   ],
   "source": [
    "import math\n",
    "import pandas as pd\n",
    "df = pd.DataFrame({\"A\" : [1.5,2,1.6,1.2,1.5]\n",
    "                  ,\"B\" : [1.7,1.9,1.8,1.5,1]})\n",
    "x =1.4\n",
    "y =1.6\n",
    "df"
   ]
  },
  {
   "cell_type": "code",
   "execution_count": 4,
   "metadata": {},
   "outputs": [
    {
     "name": "stdout",
     "output_type": "stream",
     "text": [
      "d1)= 0.14142135623730948\n",
      "d2)= 0.6708203932499369\n",
      "d3)= 0.28284271247461906\n",
      "d4)= 0.22360679774997896\n",
      "d5)= 0.608276253029822\n"
     ]
    }
   ],
   "source": [
    "# Ecludian distance\n",
    "for i in range(len(df)):\n",
    "    Ecludian = math.sqrt((df.A[i]-1.4)**2+(df.B[i]-y)**2)\n",
    "    print(\"d\"+str(i+1)+\")=\",Ecludian)"
   ]
  },
  {
   "cell_type": "code",
   "execution_count": 5,
   "metadata": {},
   "outputs": [
    {
     "name": "stdout",
     "output_type": "stream",
     "text": [
      "d1= 0.19999999999999996\n",
      "d2= 0.8999999999999999\n",
      "d3= 0.40000000000000013\n",
      "d4= 0.30000000000000004\n",
      "d5= 0.7000000000000002\n"
     ]
    }
   ],
   "source": [
    "# Manhatn distance\n",
    "for i in range(len(df)):\n",
    "    M= abs(df.A[i]-x)+abs(df.B[i]-y)\n",
    "    print(\"d\"+str(i+1)+\"=\",(M))"
   ]
  },
  {
   "cell_type": "code",
   "execution_count": 7,
   "metadata": {},
   "outputs": [
    {
     "name": "stdout",
     "output_type": "stream",
     "text": [
      "d1= 0.10000000000000009\n",
      "d2= 0.6000000000000001\n",
      "d3= 0.20000000000000018\n",
      "d4= 0.19999999999999996\n",
      "d5= 0.6000000000000001\n"
     ]
    }
   ],
   "source": [
    "# Supermum distance\n",
    "for i in range(len(df)):\n",
    "    d= max(abs(df.A[i]-x),abs(df.B[i]-y))\n",
    "    print(\"d\"+str(i+1)+\"=\",(d))"
   ]
  },
  {
   "cell_type": "code",
   "execution_count": null,
   "metadata": {},
   "outputs": [],
   "source": []
  }
 ],
 "metadata": {
  "kernelspec": {
   "display_name": "Python 3",
   "language": "python",
   "name": "python3"
  },
  "language_info": {
   "codemirror_mode": {
    "name": "ipython",
    "version": 3
   },
   "file_extension": ".py",
   "mimetype": "text/x-python",
   "name": "python",
   "nbconvert_exporter": "python",
   "pygments_lexer": "ipython3",
   "version": "3.8.5"
  }
 },
 "nbformat": 4,
 "nbformat_minor": 4
}
