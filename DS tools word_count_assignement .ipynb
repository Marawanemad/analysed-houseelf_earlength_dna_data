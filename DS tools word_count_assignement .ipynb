{
 "cells": [
  {
   "cell_type": "code",
   "execution_count": 111,
   "metadata": {},
   "outputs": [
    {
     "data": {
      "text/plain": [
       "{'BMW': 2, 'mercedes': 2, 'hunda': 1, 'Opel': 2}"
      ]
     },
     "execution_count": 111,
     "metadata": {},
     "output_type": "execute_result"
    }
   ],
   "source": [
    "# count word by for loop\n",
    "MyList = ['BMW','mercedes','mercedes','hunda','Opel','BMW','Opel']\n",
    "count = {}\n",
    "\n",
    "for i in MyList:\n",
    "    if  i in count:\n",
    "         count[i] += 1\n",
    "    else:\n",
    "         count[i] =1\n",
    "count"
   ]
  },
  {
   "cell_type": "code",
   "execution_count": 108,
   "metadata": {},
   "outputs": [
    {
     "data": {
      "text/plain": [
       "{'BMW': 3, 'OPEL': 2, 'MERCEDES': 2, 'HUNDA': 1}"
      ]
     },
     "execution_count": 108,
     "metadata": {},
     "output_type": "execute_result"
    }
   ],
   "source": [
    "# count by for & dict function \n",
    "arr1=[]\n",
    "arr = ['BMW','Opel','mercedes','hunda','mercedes','Opel','BMW','BmW']\n",
    "for i in arr:\n",
    "    arr1.append(i.upper())\n",
    "result = dict((i, arr1.count(i)) for i in arr1)\n",
    "result    "
   ]
  },
  {
   "cell_type": "code",
   "execution_count": 110,
   "metadata": {},
   "outputs": [
    {
     "name": "stdout",
     "output_type": "stream",
     "text": [
      "{'BMW': 2, 'Opel': 2, 'mercedes': 2, 'hunda': 1}\n"
     ]
    }
   ],
   "source": [
    "# count word by map & reduce functions\n",
    "from functools import reduce\n",
    "def reducer(i, j):\n",
    "    for k in j:\n",
    "        i[k] = i.get(k, 0) + j.get(k, 0)\n",
    "        return i\n",
    "\n",
    "def count(array):\n",
    "    c = reduce(reducer, map(lambda word: dict([[word, 1]]), array))\n",
    "    print(c)\n",
    "    \n",
    "count(['BMW','Opel','mercedes','hunda','mercedes','Opel','BMW'])    "
   ]
  },
  {
   "cell_type": "code",
   "execution_count": null,
   "metadata": {},
   "outputs": [],
   "source": []
  }
 ],
 "metadata": {
  "kernelspec": {
   "display_name": "Python 3",
   "language": "python",
   "name": "python3"
  },
  "language_info": {
   "codemirror_mode": {
    "name": "ipython",
    "version": 3
   },
   "file_extension": ".py",
   "mimetype": "text/x-python",
   "name": "python",
   "nbconvert_exporter": "python",
   "pygments_lexer": "ipython3",
   "version": "3.8.5"
  }
 },
 "nbformat": 4,
 "nbformat_minor": 4
}
